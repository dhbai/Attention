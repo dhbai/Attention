{
 "cells": [
  {
   "cell_type": "code",
   "execution_count": 14,
   "metadata": {},
   "outputs": [],
   "source": [
    "#This code organizes the raw miniImageNet and tieredImageNet datasets \n",
    "#into a format suitable for training convolutional neural networks."
   ]
  },
  {
   "cell_type": "code",
   "execution_count": 15,
   "metadata": {},
   "outputs": [],
   "source": [
    "import csv\n",
    "import glob\n",
    "import os\n",
    "import random\n",
    "import shutil"
   ]
  },
  {
   "cell_type": "code",
   "execution_count": 16,
   "metadata": {},
   "outputs": [],
   "source": [
    "# Get all csv files\n",
    "def concat_csv(csv_list):\n",
    "    file_with_label = {}\n",
    "    for csv_path in csv_list:\n",
    "        with open(csv_path) as csvfile:\n",
    "            reader = csv.reader(csvfile)\n",
    "            header = next(reader)\n",
    "            for line in reader:\n",
    "                if (line[1] not in file_with_label.keys()):\n",
    "                    file_with_label[line[1]] = [line[0]]\n",
    "                else:\n",
    "                    file_with_label[line[1]].append(line[0])\n",
    "    return file_with_label\n",
    "\n",
    "\n",
    "def split_dataset(file_with_label, root, ratio):\n",
    "    for label in file_with_label.keys():\n",
    "        if not os.path.exists(os.path.join(root, \"train\", label)) and not os.path.exists(os.path.join(root, \"val\", label)):\n",
    "            os.makedirs(os.path.join(root, \"train\", label))\n",
    "            os.makedirs(os.path.join(root, \"val\", label))\n",
    "        for file_name in file_with_label[label]:\n",
    "            shutil.move(os.path.join(root, \"images\", file_name),\n",
    "                        os.path.join(root, \"train\", label))\n",
    "    for label in os.listdir(os.path.join(root, \"train\")):\n",
    "        samples = random.sample(os.listdir(\n",
    "            os.path.join(root, \"train\", label)), int(len(os.listdir(os.path.join(root, \"train\", label))) * ratio))\n",
    "        for files in samples:\n",
    "            shutil.move(os.path.join(root, \"train\", label, files),\n",
    "                        os.path.join(root, \"val\", label))\n",
    "    print(\"Datasets organization complete！\")"
   ]
  },
  {
   "cell_type": "code",
   "execution_count": 17,
   "metadata": {},
   "outputs": [
    {
     "name": "stdout",
     "output_type": "stream",
     "text": [
      "Datasets organization complete！\n"
     ]
    }
   ],
   "source": [
    "def main():\n",
    "    \n",
    "    # Modify the image dataset root directory\n",
    "    root = \"dataset\\mini-imagenet\\mini-imagenet\"  \n",
    "    \n",
    "    # Get three csv files\n",
    "    csv_list = glob.glob(os.path.join(root, \"*.csv\"))  \n",
    "    # Integrated csv file\n",
    "    file_with_label = concat_csv(csv_list)  \n",
    "    \n",
    "    #Divided into train and test, modify the test ratio, default 0.2\n",
    "    split_dataset(file_with_label, root, 0.2)  \n",
    "\n",
    "if __name__ == \"__main__\":\n",
    "    main()"
   ]
  }
 ],
 "metadata": {
  "kernelspec": {
   "display_name": "Python 3",
   "language": "python",
   "name": "python3"
  },
  "language_info": {
   "codemirror_mode": {
    "name": "ipython",
    "version": 3
   },
   "file_extension": ".py",
   "mimetype": "text/x-python",
   "name": "python",
   "nbconvert_exporter": "python",
   "pygments_lexer": "ipython3",
   "version": "3.7.6"
  }
 },
 "nbformat": 4,
 "nbformat_minor": 4
}
